{
 "cells": [
  {
   "cell_type": "code",
   "execution_count": 1,
   "metadata": {},
   "outputs": [
    {
     "ename": "NameError",
     "evalue": "name 'python' is not defined",
     "output_type": "error",
     "traceback": [
      "\u001b[1;31m---------------------------------------------------------------------------\u001b[0m",
      "\u001b[1;31mNameError\u001b[0m                                 Traceback (most recent call last)",
      "\u001b[1;32m<ipython-input-1-32886514c262>\u001b[0m in \u001b[0;36m<module>\u001b[1;34m\u001b[0m\n\u001b[1;32m----> 1\u001b[1;33m \u001b[0mpython\u001b[0m\u001b[1;33m\u001b[0m\u001b[1;33m\u001b[0m\u001b[0m\n\u001b[0m",
      "\u001b[1;31mNameError\u001b[0m: name 'python' is not defined"
     ]
    }
   ],
   "source": [
    "python"
   ]
  },
  {
   "cell_type": "markdown",
   "metadata": {},
   "source": [
    "### Import the libraries"
   ]
  },
  {
   "cell_type": "code",
   "execution_count": 2,
   "metadata": {},
   "outputs": [
    {
     "name": "stdout",
     "output_type": "stream",
     "text": [
      "Collecting gTTS\n",
      "  Downloading gTTS-2.2.1-py3-none-any.whl (24 kB)\n",
      "Requirement already satisfied: requests in c:\\users\\hp\\anaconda3\\lib\\site-packages (from gTTS) (2.22.0)\n",
      "Requirement already satisfied: six in c:\\users\\hp\\appdata\\roaming\\python\\python37\\site-packages (from gTTS) (1.15.0)\n",
      "Requirement already satisfied: click in c:\\users\\hp\\anaconda3\\lib\\site-packages (from gTTS) (7.0)\n",
      "Requirement already satisfied: idna<2.9,>=2.5 in c:\\users\\hp\\anaconda3\\lib\\site-packages (from requests->gTTS) (2.8)\n",
      "Requirement already satisfied: certifi>=2017.4.17 in c:\\users\\hp\\anaconda3\\lib\\site-packages (from requests->gTTS) (2019.11.28)\n",
      "Requirement already satisfied: chardet<3.1.0,>=3.0.2 in c:\\users\\hp\\anaconda3\\lib\\site-packages (from requests->gTTS) (3.0.4)\n",
      "Requirement already satisfied: urllib3!=1.25.0,!=1.25.1,<1.26,>=1.21.1 in c:\\users\\hp\\anaconda3\\lib\\site-packages (from requests->gTTS) (1.25.8)\n",
      "Installing collected packages: gTTS\n",
      "Successfully installed gTTS-2.2.1\n",
      "Note: you may need to restart the kernel to use updated packages.\n"
     ]
    }
   ],
   "source": [
    "pip install gTTS"
   ]
  },
  {
   "cell_type": "code",
   "execution_count": 3,
   "metadata": {},
   "outputs": [
    {
     "name": "stdout",
     "output_type": "stream",
     "text": [
      "Collecting speechRecognition\n",
      "  Downloading SpeechRecognition-3.8.1-py2.py3-none-any.whl (32.8 MB)\n",
      "Installing collected packages: speechRecognition\n",
      "Successfully installed speechRecognition-3.8.1\n",
      "Note: you may need to restart the kernel to use updated packages.\n"
     ]
    }
   ],
   "source": [
    "pip install speechRecognition"
   ]
  },
  {
   "cell_type": "code",
   "execution_count": 4,
   "metadata": {},
   "outputs": [
    {
     "name": "stdout",
     "output_type": "stream",
     "text": [
      "Collecting playsound\n",
      "  Downloading playsound-1.2.2-py2.py3-none-any.whl (6.0 kB)\n",
      "Installing collected packages: playsound\n",
      "Successfully installed playsound-1.2.2\n",
      "Note: you may need to restart the kernel to use updated packages.\n"
     ]
    }
   ],
   "source": [
    "pip install playsound\n"
   ]
  },
  {
   "cell_type": "code",
   "execution_count": 1,
   "metadata": {},
   "outputs": [
    {
     "ename": "NameError",
     "evalue": "name 'python' is not defined",
     "output_type": "error",
     "traceback": [
      "\u001b[1;31m---------------------------------------------------------------------------\u001b[0m",
      "\u001b[1;31mNameError\u001b[0m                                 Traceback (most recent call last)",
      "\u001b[1;32m<ipython-input-1-32886514c262>\u001b[0m in \u001b[0;36m<module>\u001b[1;34m\u001b[0m\n\u001b[1;32m----> 1\u001b[1;33m \u001b[0mpython\u001b[0m\u001b[1;33m\u001b[0m\u001b[1;33m\u001b[0m\u001b[0m\n\u001b[0m",
      "\u001b[1;31mNameError\u001b[0m: name 'python' is not defined"
     ]
    }
   ],
   "source": [
    "python"
   ]
  },
  {
   "cell_type": "code",
   "execution_count": 1,
   "metadata": {},
   "outputs": [
    {
     "name": "stdout",
     "output_type": "stream",
     "text": [
      "Collecting jupyter_http_over_ws\n",
      "  Downloading jupyter_http_over_ws-0.0.8-py2.py3-none-any.whl (18 kB)\n",
      "Requirement already satisfied: tornado>=4.5 in c:\\users\\hp\\anaconda3\\lib\\site-packages (from jupyter_http_over_ws) (6.0.3)\n",
      "Requirement already satisfied: six>=1.6.0 in c:\\users\\hp\\appdata\\roaming\\python\\python37\\site-packages (from jupyter_http_over_ws) (1.15.0)\n",
      "Requirement already satisfied: notebook>=5.0 in c:\\users\\hp\\anaconda3\\lib\\site-packages (from jupyter_http_over_ws) (6.0.3)\n",
      "Requirement already satisfied: nbconvert in c:\\users\\hp\\anaconda3\\lib\\site-packages (from notebook>=5.0->jupyter_http_over_ws) (5.6.1)\n",
      "Requirement already satisfied: Send2Trash in c:\\users\\hp\\anaconda3\\lib\\site-packages (from notebook>=5.0->jupyter_http_over_ws) (1.5.0)\n",
      "Requirement already satisfied: jupyter-core>=4.6.1 in c:\\users\\hp\\anaconda3\\lib\\site-packages (from notebook>=5.0->jupyter_http_over_ws) (4.6.1)\n",
      "Requirement already satisfied: jinja2 in c:\\users\\hp\\anaconda3\\lib\\site-packages (from notebook>=5.0->jupyter_http_over_ws) (2.11.1)\n",
      "Requirement already satisfied: traitlets>=4.2.1 in c:\\users\\hp\\anaconda3\\lib\\site-packages (from notebook>=5.0->jupyter_http_over_ws) (4.3.3)\n",
      "Requirement already satisfied: ipykernel in c:\\users\\hp\\anaconda3\\lib\\site-packages (from notebook>=5.0->jupyter_http_over_ws) (5.1.4)\n",
      "Requirement already satisfied: prometheus-client in c:\\users\\hp\\anaconda3\\lib\\site-packages (from notebook>=5.0->jupyter_http_over_ws) (0.7.1)\n",
      "Requirement already satisfied: ipython-genutils in c:\\users\\hp\\anaconda3\\lib\\site-packages (from notebook>=5.0->jupyter_http_over_ws) (0.2.0)\n",
      "Requirement already satisfied: pyzmq>=17 in c:\\users\\hp\\anaconda3\\lib\\site-packages (from notebook>=5.0->jupyter_http_over_ws) (18.1.1)\n",
      "Requirement already satisfied: terminado>=0.8.1 in c:\\users\\hp\\anaconda3\\lib\\site-packages (from notebook>=5.0->jupyter_http_over_ws) (0.8.3)\n",
      "Requirement already satisfied: nbformat in c:\\users\\hp\\anaconda3\\lib\\site-packages (from notebook>=5.0->jupyter_http_over_ws) (5.0.4)\n",
      "Requirement already satisfied: jupyter-client>=5.3.4 in c:\\users\\hp\\anaconda3\\lib\\site-packages (from notebook>=5.0->jupyter_http_over_ws) (5.3.4)\n",
      "Requirement already satisfied: bleach in c:\\users\\hp\\anaconda3\\lib\\site-packages (from nbconvert->notebook>=5.0->jupyter_http_over_ws) (3.1.0)\n",
      "Requirement already satisfied: mistune<2,>=0.8.1 in c:\\users\\hp\\anaconda3\\lib\\site-packages (from nbconvert->notebook>=5.0->jupyter_http_over_ws) (0.8.4)\n",
      "Requirement already satisfied: testpath in c:\\users\\hp\\anaconda3\\lib\\site-packages (from nbconvert->notebook>=5.0->jupyter_http_over_ws) (0.4.4)\n",
      "Requirement already satisfied: pygments in c:\\users\\hp\\anaconda3\\lib\\site-packages (from nbconvert->notebook>=5.0->jupyter_http_over_ws) (2.5.2)\n",
      "Requirement already satisfied: pandocfilters>=1.4.1 in c:\\users\\hp\\anaconda3\\lib\\site-packages (from nbconvert->notebook>=5.0->jupyter_http_over_ws) (1.4.2)\n",
      "Requirement already satisfied: entrypoints>=0.2.2 in c:\\users\\hp\\anaconda3\\lib\\site-packages (from nbconvert->notebook>=5.0->jupyter_http_over_ws) (0.3)\n",
      "Requirement already satisfied: defusedxml in c:\\users\\hp\\anaconda3\\lib\\site-packages (from nbconvert->notebook>=5.0->jupyter_http_over_ws) (0.6.0)\n",
      "Requirement already satisfied: pywin32>=1.0; sys_platform == \"win32\" in c:\\users\\hp\\anaconda3\\lib\\site-packages (from jupyter-core>=4.6.1->notebook>=5.0->jupyter_http_over_ws) (227)\n",
      "Requirement already satisfied: MarkupSafe>=0.23 in c:\\users\\hp\\anaconda3\\lib\\site-packages (from jinja2->notebook>=5.0->jupyter_http_over_ws) (1.1.1)\n",
      "Requirement already satisfied: decorator in c:\\users\\hp\\anaconda3\\lib\\site-packages (from traitlets>=4.2.1->notebook>=5.0->jupyter_http_over_ws) (4.4.1)\n",
      "Requirement already satisfied: ipython>=5.0.0 in c:\\users\\hp\\anaconda3\\lib\\site-packages (from ipykernel->notebook>=5.0->jupyter_http_over_ws) (7.12.0)\n",
      "Requirement already satisfied: jsonschema!=2.5.0,>=2.4 in c:\\users\\hp\\anaconda3\\lib\\site-packages (from nbformat->notebook>=5.0->jupyter_http_over_ws) (3.2.0)\n",
      "Requirement already satisfied: python-dateutil>=2.1 in c:\\users\\hp\\anaconda3\\lib\\site-packages (from jupyter-client>=5.3.4->notebook>=5.0->jupyter_http_over_ws) (2.8.1)\n",
      "Requirement already satisfied: webencodings in c:\\users\\hp\\anaconda3\\lib\\site-packages (from bleach->nbconvert->notebook>=5.0->jupyter_http_over_ws) (0.5.1)\n",
      "Requirement already satisfied: jedi>=0.10 in c:\\users\\hp\\anaconda3\\lib\\site-packages (from ipython>=5.0.0->ipykernel->notebook>=5.0->jupyter_http_over_ws) (0.14.1)\n",
      "Requirement already satisfied: pickleshare in c:\\users\\hp\\anaconda3\\lib\\site-packages (from ipython>=5.0.0->ipykernel->notebook>=5.0->jupyter_http_over_ws) (0.7.5)\n",
      "Requirement already satisfied: prompt-toolkit!=3.0.0,!=3.0.1,<3.1.0,>=2.0.0 in c:\\users\\hp\\anaconda3\\lib\\site-packages (from ipython>=5.0.0->ipykernel->notebook>=5.0->jupyter_http_over_ws) (3.0.3)\n",
      "Requirement already satisfied: colorama; sys_platform == \"win32\" in c:\\users\\hp\\appdata\\roaming\\python\\python37\\site-packages (from ipython>=5.0.0->ipykernel->notebook>=5.0->jupyter_http_over_ws) (0.4.4)\n",
      "Requirement already satisfied: backcall in c:\\users\\hp\\anaconda3\\lib\\site-packages (from ipython>=5.0.0->ipykernel->notebook>=5.0->jupyter_http_over_ws) (0.1.0)\n",
      "Requirement already satisfied: setuptools>=18.5 in c:\\users\\hp\\anaconda3\\lib\\site-packages (from ipython>=5.0.0->ipykernel->notebook>=5.0->jupyter_http_over_ws) (45.2.0.post20200210)\n",
      "Requirement already satisfied: pyrsistent>=0.14.0 in c:\\users\\hp\\anaconda3\\lib\\site-packages (from jsonschema!=2.5.0,>=2.4->nbformat->notebook>=5.0->jupyter_http_over_ws) (0.15.7)\n",
      "Requirement already satisfied: attrs>=17.4.0 in c:\\users\\hp\\anaconda3\\lib\\site-packages (from jsonschema!=2.5.0,>=2.4->nbformat->notebook>=5.0->jupyter_http_over_ws) (19.3.0)\n",
      "Requirement already satisfied: importlib-metadata; python_version < \"3.8\" in c:\\users\\hp\\anaconda3\\lib\\site-packages (from jsonschema!=2.5.0,>=2.4->nbformat->notebook>=5.0->jupyter_http_over_ws) (1.5.0)\n",
      "Requirement already satisfied: parso>=0.5.0 in c:\\users\\hp\\anaconda3\\lib\\site-packages (from jedi>=0.10->ipython>=5.0.0->ipykernel->notebook>=5.0->jupyter_http_over_ws) (0.5.2)\n",
      "Requirement already satisfied: wcwidth in c:\\users\\hp\\anaconda3\\lib\\site-packages (from prompt-toolkit!=3.0.0,!=3.0.1,<3.1.0,>=2.0.0->ipython>=5.0.0->ipykernel->notebook>=5.0->jupyter_http_over_ws) (0.1.8)\n",
      "Requirement already satisfied: zipp>=0.5 in c:\\users\\hp\\anaconda3\\lib\\site-packages (from importlib-metadata; python_version < \"3.8\"->jsonschema!=2.5.0,>=2.4->nbformat->notebook>=5.0->jupyter_http_over_ws) (2.2.0)\n",
      "Installing collected packages: jupyter-http-over-ws\n",
      "Successfully installed jupyter-http-over-ws-0.0.8\n",
      "Note: you may need to restart the kernel to use updated packages.\n"
     ]
    }
   ],
   "source": [
    "pip install jupyter_http_over_ws"
   ]
  },
  {
   "cell_type": "code",
   "execution_count": 1,
   "metadata": {},
   "outputs": [],
   "source": [
    "from __future__ import print_function\n",
    "import datetime\n",
    "import pickle\n",
    "import os.path\n",
    "from googleapiclient.discovery import build\n",
    "from google_auth_oauthlib.flow import InstalledAppFlow\n",
    "from google.auth.transport.requests import Request"
   ]
  },
  {
   "cell_type": "code",
   "execution_count": 13,
   "metadata": {},
   "outputs": [],
   "source": [
    "import datetime"
   ]
  },
  {
   "cell_type": "code",
   "execution_count": 1,
   "metadata": {},
   "outputs": [],
   "source": [
    "import os\n",
    "import time"
   ]
  },
  {
   "cell_type": "code",
   "execution_count": 2,
   "metadata": {},
   "outputs": [],
   "source": [
    "import playsound"
   ]
  },
  {
   "cell_type": "code",
   "execution_count": 3,
   "metadata": {},
   "outputs": [],
   "source": [
    "import speech_recognition as sr"
   ]
  },
  {
   "cell_type": "code",
   "execution_count": 4,
   "metadata": {},
   "outputs": [],
   "source": [
    "from gtts import gTTS"
   ]
  },
  {
   "cell_type": "code",
   "execution_count": 5,
   "metadata": {},
   "outputs": [],
   "source": [
    "import playsound"
   ]
  },
  {
   "cell_type": "code",
   "execution_count": 2,
   "metadata": {},
   "outputs": [],
   "source": [
    "# If modifying these scopes, delete the file token.pickle.\n",
    "SCOPES = ['https://www.googleapis.com/auth/calendar.readonly']"
   ]
  },
  {
   "cell_type": "code",
   "execution_count": 12,
   "metadata": {},
   "outputs": [],
   "source": [
    "# Days and Month lists for calender\n",
    "MONTHS = [\"january\", \"february\", \"march\", \"april\", \"may\", \"june\", \"july\", \"august\", \"september\", \"october\", \"november\", \"december\"]\n",
    "DAYS = [\"sunday\", \"monday\", \"tuesday\", \"wednesday\", \"thursday\", \"friday\", \"saturday\"]\n",
    "DAYS_EXTENSIONS = [\"rd\", \"th\", \"st\"]"
   ]
  },
  {
   "cell_type": "code",
   "execution_count": 6,
   "metadata": {},
   "outputs": [],
   "source": [
    "def speak(text):\n",
    "    tts =  gTTS(text = text, lang = \"en\")\n",
    "    filename = \"voice3.mp3\"\n",
    "    tts.save(filename)\n",
    "    playsound.playsound(filename)\n",
    "    os.remove(filename)"
   ]
  },
  {
   "cell_type": "code",
   "execution_count": 7,
   "metadata": {},
   "outputs": [],
   "source": [
    "speak(\"Hello dude. Welcome back home. Shafi\")"
   ]
  },
  {
   "cell_type": "code",
   "execution_count": 10,
   "metadata": {},
   "outputs": [],
   "source": [
    "def get_audio():\n",
    "    r = sr.Recognizer()\n",
    "    with sr.Microphone() as source:\n",
    "        audio = r.listen(source)\n",
    "        said = \"\"\n",
    "        \n",
    "        try:\n",
    "            said = r.recognize_google(audio) #Using Google's API\n",
    "            print(said)\n",
    "        \n",
    "        except Exception as e:\n",
    "            print(\"Exception: \" + str(e))\n",
    "            \n",
    "        return said"
   ]
  },
  {
   "cell_type": "code",
   "execution_count": 9,
   "metadata": {},
   "outputs": [
    {
     "name": "stdout",
     "output_type": "stream",
     "text": [
      "hello\n"
     ]
    },
    {
     "data": {
      "text/plain": [
       "'hello'"
      ]
     },
     "execution_count": 9,
     "metadata": {},
     "output_type": "execute_result"
    }
   ],
   "source": [
    "speak(\"hello\")\n",
    "get_audio()"
   ]
  },
  {
   "cell_type": "code",
   "execution_count": 16,
   "metadata": {},
   "outputs": [
    {
     "name": "stdout",
     "output_type": "stream",
     "text": [
      "what is your name\n"
     ]
    }
   ],
   "source": [
    "text = get_audio()"
   ]
  },
  {
   "cell_type": "markdown",
   "metadata": {},
   "source": [
    "### Some simple if else conditions for the intro"
   ]
  },
  {
   "cell_type": "code",
   "execution_count": 3,
   "metadata": {},
   "outputs": [],
   "source": [
    "##if \"hello\" in text:\n",
    "##    speak(\"hello, how are you?\")\n",
    "    \n",
    "##if \"what is your name\" in text:\n",
    "##    speak(\"I am the prototype Bot\")\n",
    "    \n",
    "##if \"what's your name\" in text:\n",
    "##    speak(\"I am prototype bot\")"
   ]
  },
  {
   "cell_type": "markdown",
   "metadata": {},
   "source": [
    "### Installing google's API"
   ]
  },
  {
   "cell_type": "code",
   "execution_count": 19,
   "metadata": {},
   "outputs": [
    {
     "name": "stdout",
     "output_type": "stream",
     "text": [
      "Collecting google-api-python-client\n",
      "  Downloading google_api_python_client-1.12.8-py2.py3-none-any.whl (61 kB)\n",
      "Collecting google-auth-httplib2\n",
      "  Downloading google_auth_httplib2-0.0.4-py2.py3-none-any.whl (9.1 kB)\n",
      "Collecting google-auth-oauthlib\n",
      "  Downloading google_auth_oauthlib-0.4.2-py2.py3-none-any.whl (18 kB)\n",
      "Collecting httplib2<1dev,>=0.15.0\n",
      "  Downloading httplib2-0.18.1-py3-none-any.whl (95 kB)\n",
      "Collecting uritemplate<4dev,>=3.0.0\n",
      "  Downloading uritemplate-3.0.1-py2.py3-none-any.whl (15 kB)\n",
      "Collecting google-api-core<2dev,>=1.21.0\n",
      "  Downloading google_api_core-1.24.1-py2.py3-none-any.whl (92 kB)\n",
      "Collecting google-auth>=1.16.0\n",
      "  Downloading google_auth-1.24.0-py2.py3-none-any.whl (114 kB)\n",
      "Requirement already satisfied, skipping upgrade: six<2dev,>=1.13.0 in c:\\users\\hp\\appdata\\roaming\\python\\python37\\site-packages (from google-api-python-client) (1.15.0)\n",
      "Collecting requests-oauthlib>=0.7.0\n",
      "  Downloading requests_oauthlib-1.3.0-py2.py3-none-any.whl (23 kB)\n",
      "Requirement already satisfied, skipping upgrade: pytz in c:\\users\\hp\\anaconda3\\lib\\site-packages (from google-api-core<2dev,>=1.21.0->google-api-python-client) (2019.3)\n",
      "Collecting googleapis-common-protos<2.0dev,>=1.6.0\n",
      "  Downloading googleapis_common_protos-1.52.0-py2.py3-none-any.whl (100 kB)\n",
      "Collecting protobuf>=3.12.0\n",
      "  Downloading protobuf-3.14.0-cp37-cp37m-win_amd64.whl (798 kB)\n",
      "Requirement already satisfied, skipping upgrade: requests<3.0.0dev,>=2.18.0 in c:\\users\\hp\\anaconda3\\lib\\site-packages (from google-api-core<2dev,>=1.21.0->google-api-python-client) (2.22.0)\n",
      "Requirement already satisfied, skipping upgrade: setuptools>=34.0.0 in c:\\users\\hp\\anaconda3\\lib\\site-packages (from google-api-core<2dev,>=1.21.0->google-api-python-client) (45.2.0.post20200210)\n",
      "Collecting cachetools<5.0,>=2.0.0\n",
      "  Downloading cachetools-4.2.0-py3-none-any.whl (12 kB)\n",
      "Collecting rsa<5,>=3.1.4; python_version >= \"3.6\"\n",
      "  Downloading rsa-4.6-py3-none-any.whl (47 kB)\n",
      "Collecting pyasn1-modules>=0.2.1\n",
      "  Downloading pyasn1_modules-0.2.8-py2.py3-none-any.whl (155 kB)\n",
      "Collecting oauthlib>=3.0.0\n",
      "  Downloading oauthlib-3.1.0-py2.py3-none-any.whl (147 kB)\n",
      "Requirement already satisfied, skipping upgrade: chardet<3.1.0,>=3.0.2 in c:\\users\\hp\\anaconda3\\lib\\site-packages (from requests<3.0.0dev,>=2.18.0->google-api-core<2dev,>=1.21.0->google-api-python-client) (3.0.4)\n",
      "Requirement already satisfied, skipping upgrade: certifi>=2017.4.17 in c:\\users\\hp\\anaconda3\\lib\\site-packages (from requests<3.0.0dev,>=2.18.0->google-api-core<2dev,>=1.21.0->google-api-python-client) (2019.11.28)\n",
      "Requirement already satisfied, skipping upgrade: urllib3!=1.25.0,!=1.25.1,<1.26,>=1.21.1 in c:\\users\\hp\\anaconda3\\lib\\site-packages (from requests<3.0.0dev,>=2.18.0->google-api-core<2dev,>=1.21.0->google-api-python-client) (1.25.8)\n",
      "Requirement already satisfied, skipping upgrade: idna<2.9,>=2.5 in c:\\users\\hp\\anaconda3\\lib\\site-packages (from requests<3.0.0dev,>=2.18.0->google-api-core<2dev,>=1.21.0->google-api-python-client) (2.8)\n",
      "Collecting pyasn1>=0.1.3\n",
      "  Downloading pyasn1-0.4.8-py2.py3-none-any.whl (77 kB)\n",
      "Installing collected packages: httplib2, uritemplate, cachetools, pyasn1, rsa, pyasn1-modules, google-auth, google-auth-httplib2, protobuf, googleapis-common-protos, google-api-core, google-api-python-client, oauthlib, requests-oauthlib, google-auth-oauthlib\n",
      "Successfully installed cachetools-4.2.0 google-api-core-1.24.1 google-api-python-client-1.12.8 google-auth-1.24.0 google-auth-httplib2-0.0.4 google-auth-oauthlib-0.4.2 googleapis-common-protos-1.52.0 httplib2-0.18.1 oauthlib-3.1.0 protobuf-3.14.0 pyasn1-0.4.8 pyasn1-modules-0.2.8 requests-oauthlib-1.3.0 rsa-4.6 uritemplate-3.0.1\n",
      "Note: you may need to restart the kernel to use updated packages.\n"
     ]
    }
   ],
   "source": [
    "pip install --upgrade google-api-python-client google-auth-httplib2 google-auth-oauthlib"
   ]
  },
  {
   "cell_type": "markdown",
   "metadata": {},
   "source": [
    "#### Google Calender API  "
   ]
  },
  {
   "cell_type": "code",
   "execution_count": 8,
   "metadata": {},
   "outputs": [
    {
     "name": "stdout",
     "output_type": "stream",
     "text": [
      "Getting the upcoming 10 events\n",
      "No upcoming events found.\n"
     ]
    }
   ],
   "source": [
    "\n",
    "def authenticate_google():\n",
    "    \"\"\"Shows basic usage of the Google Calendar API.\n",
    "    Prints the start and name of the next 10 events on the user's calendar.\n",
    "    \"\"\"\n",
    "    creds = None\n",
    "    # The file token.pickle stores the user's access and refresh tokens, and is\n",
    "    # created automatically when the authorization flow completes for the first\n",
    "    # time.\n",
    "    if os.path.exists('token.pickle'):\n",
    "        with open('token.pickle', 'rb') as token:\n",
    "            creds = pickle.load(token)\n",
    "    # If there are no (valid) credentials available, let the user log in.\n",
    "    if not creds or not creds.valid:\n",
    "        if creds and creds.expired and creds.refresh_token:\n",
    "            creds.refresh(Request())\n",
    "        else:\n",
    "            flow = InstalledAppFlow.from_client_secrets_file(\n",
    "                'credentials.json', SCOPES)\n",
    "            creds = flow.run_local_server(port=0)\n",
    "        # Save the credentials for the next run\n",
    "        with open('token.pickle', 'wb') as token:\n",
    "            pickle.dump(creds, token)\n",
    "\n",
    "    service = build('calendar', 'v3', credentials=creds)\n",
    "    \n",
    "    return service\n",
    "\n",
    "\n",
    "\n",
    "# m = No. of events\n",
    "# service -> returned from authenticate_google() function\n",
    "def get_events(n, service):\n",
    "    # Call the Calendar API\n",
    "    now = datetime.datetime.utcnow().isoformat() + 'Z' # 'Z' indicates UTC time\n",
    "    print(f'Getting the upcoming {n} events')\n",
    "    events_result = service.events().list(calendarId='primary', timeMin=now,\n",
    "                                        maxResults=n, singleEvents=True,\n",
    "                                        orderBy='startTime').execute()\n",
    "    events = events_result.get('items', [])\n",
    "\n",
    "    if not events:\n",
    "        print('No upcoming events found.')\n",
    "    for event in events:\n",
    "        start = event['start'].get('dateTime', event['start'].get('date'))\n",
    "        print(start, event['summary'])\n",
    "\n",
    "\n",
    "if __name__ == '__main__':\n",
    "    main()"
   ]
  },
  {
   "cell_type": "code",
   "execution_count": null,
   "metadata": {},
   "outputs": [],
   "source": [
    "def get_date(text):\n",
    "    text = text.lower()\n",
    "    today = datetime.date.today()\n",
    "    \n",
    "    if text.count(\"today\") > 0:\n",
    "        return today\n",
    "    \n",
    "    day = -1\n",
    "    day_of_week = -1\n",
    "    year = today.year\n",
    "    \n",
    "    for word in text.split():\n",
    "        if word in MONTHS:\n",
    "            month = MONTHS.index(month) + 1\n",
    "        elif word in DAYS:\n",
    "            day_of_week = Days.index(word)\n",
    "        elif word.isdigit():\n",
    "            day = int(word)\n",
    "            "
   ]
  },
  {
   "cell_type": "code",
   "execution_count": 9,
   "metadata": {},
   "outputs": [
    {
     "name": "stdout",
     "output_type": "stream",
     "text": [
      "Getting the upcoming 2 events\n",
      "No upcoming events found.\n"
     ]
    }
   ],
   "source": [
    "service = authenticate_google()\n",
    "get_events(2, service)"
   ]
  },
  {
   "cell_type": "code",
   "execution_count": null,
   "metadata": {},
   "outputs": [],
   "source": []
  }
 ],
 "metadata": {
  "kernelspec": {
   "display_name": "Python 3",
   "language": "python",
   "name": "python3"
  },
  "language_info": {
   "codemirror_mode": {
    "name": "ipython",
    "version": 3
   },
   "file_extension": ".py",
   "mimetype": "text/x-python",
   "name": "python",
   "nbconvert_exporter": "python",
   "pygments_lexer": "ipython3",
   "version": "3.7.6"
  }
 },
 "nbformat": 4,
 "nbformat_minor": 4
}
